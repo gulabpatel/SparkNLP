{
  "cells": [
    {
      "cell_type": "markdown",
      "metadata": {
        "id": "view-in-github",
        "colab_type": "text"
      },
      "source": [
        "<a href=\"https://colab.research.google.com/github/gulabpatel/SparkNLP/blob/main/05%3A%20Multi_Lingual_Training_and_models.ipynb\" target=\"_parent\"><img src=\"https://colab.research.google.com/assets/colab-badge.svg\" alt=\"Open In Colab\"/></a>"
      ]
    },
    {
      "cell_type": "markdown",
      "metadata": {
        "id": "Kl6fW8Fkf3vN"
      },
      "source": [
        "## Train SOTA a multi-lingual NLP classifier, capable of understanding 100+ languages\n",
        "\n",
        "\n",
        "\n",
        "### Limits of uni-lingual embeddings\n",
        "Textual Embeddings are numerical vectorized representations of our training set and they encode semantic information in high dimensional space. Usually they are trained only on one language and are thus only able to embed text from the original training laguage properly. The Sentence `I love sausages` and `Ich liebe Bratwurst` have the same semantic meaning and should have a small distance in embedding space. But most english embedding models have never seen German words like `Bratwurst`, so the model would never be able to deduct that these sentences say the same thing and should have close proximity in hyperspace.    \n",
        "\n",
        "\n",
        "\n",
        "### Solutions with multi-lingual embeddings\n",
        "**Multi-Lingual embeddings** have been trained on usually 100+ of languages at the same time, which enables them to encode text from all of these languages into a semantic hyperspace. In this space similar semantic  pieces of text get mapped to points which represent the similarity by having a small distance in the embedding space.\n",
        "\n",
        "This enables many new use cases. You can train a classifier model on an English Dataset using Multi-Lingual Embeddings. The resulting model will be able to properly predict labels across all languages supported by the embedding. I.e if you use `LABSE` or `RoBERTa` your English dataset enables you to roll out a feature in 100+ countries because the embeddings already generalize enough for simple classifiers to properly leverage the hyperspace and yield good predictions\n",
        "\n",
        "\n",
        "Embeddings are feat\n",
        "\n",
        "There are many multi-lingual embeddings you can leverage via Spark NLP, you can find them all in the [Models-Hub by setting filters to Multi-Lingual and Type to Embedding](https://nlp.johnsnowlabs.com/models?language=xx&task=Embeddings)\n",
        "\n",
        "\n",
        "\n",
        "| Name                                                                                                                   | Spark NLP Model Name               | language   |\n",
        "|:-----------------------------------------------------------------------------------------------------------------------|:-----------------------------------|:-----------|\n",
        "| GloVe Embeddings 6B 300 (Multilingual)                                                                                 | glove_6B_300                       | xx         |\n",
        "| GloVe Embeddings 840B 300 (Multilingual)                                                                               | glove_840B_300                     | xx         |\n",
        "| Multilingual BERT Embeddings (Base Cased)                                                                              | bert_multi_cased                   | xx         |\n",
        "| Multilingual BERT Sentence Embeddings (Base Cased)                                                                     | sent_bert_multi_cased              | xx         |\n",
        "| Universal Sentence Encoder Multilingual Large                                                                          | tfhub_use_multi_lg                 | xx         |\n",
        "| Universal Sentence Encoder Multilingual                                                                                | tfhub_use_multi                    | xx         |\n",
        "| Universal Sentence Encoder XLING English and German                                                                    | tfhub_use_xling_en_de              | xx         |\n",
        "| Universal Sentence Encoder XLING English and Spanish                                                                   | tfhub_use_xling_en_es              | xx         |\n",
        "| Universal Sentence Encoder XLING English and French                                                                    | tfhub_use_xling_en_fr              | xx         |\n",
        "| Universal Sentence Encoder XLING Many                                                                                  | tfhub_use_xling_many               | xx         |\n",
        "| Universal Sentence Encoder Multilingual Large (tfhub_use_multi_lg)                                                     | tfhub_use_multi_lg                 | xx         |\n",
        "| Universal Sentence Encoder Multilingual (tfhub_use_multi)                                                              | tfhub_use_multi                    | xx         |\n",
        "| BERT multilingual base model (cased)                                                                                   | bert_base_multilingual_cased       | xx         |\n",
        "| BERT multilingual base model (uncased)                                                                                 | bert_base_multilingual_uncased     | xx         |\n",
        "| DistilBERT base multilingual model (cased)                                                                             | distilbert_base_multilingual_cased | xx         |\n",
        "| Twitter XLM-RoBERTa Base (twitter_xlm_roberta_base)                                                                    | twitter_xlm_roberta_base           | xx         |\n",
        "| XLM-RoBERTa Base (xlm_roberta_base)                                                                                    | xlm_roberta_base                   | xx         |\n",
        "| XLM-RoBERTa XTREME Base (xlm_roberta_xtreme_base)                                                                      | xlm_roberta_xtreme_base            | xx         |\n",
        "| Universal sentence encoder for 100+ languages trained with CMLM (sent_bert_use_cmlm_multi_base_br)                     | sent_bert_use_cmlm_multi_base_br   | xx         |\n",
        "| Universal sentence encoder for 100+ languages trained with CMLM (sent_bert_use_cmlm_multi_base)                        | sent_bert_use_cmlm_multi_base      | xx         |\n",
        "| Multilingual Representations for Indian Languages (MuRIL)                                                              | bert_muril                         | xx         |\n",
        "| Multilingual Representations for Indian Languages (MuRIL) - BERT Sentence Embedding pre-trained on 17 Indian languages | sent_bert_muril                    | xx         |\n",
        "| XLM-RoBERTa Base Sentence Embeddings (sent_xlm_roberta_base)                                                           | sent_xlm_roberta_base              | xx         |\n",
        "| XLM-RoBERTa Large (xlm_roberta_large)                                                                                  | xlm_roberta_large                  | xx         |\n",
        "\n"
      ]
    },
    {
      "cell_type": "markdown",
      "metadata": {
        "id": "06DMedvcgjKa"
      },
      "source": [
        "## Colab Setup"
      ]
    },
    {
      "cell_type": "code",
      "execution_count": 2,
      "metadata": {
        "id": "3Mc2rld9f7YW",
        "colab": {
          "base_uri": "https://localhost:8080/"
        },
        "outputId": "aca870ce-0e12-40dd-a2cf-eaf5423c81bf"
      },
      "outputs": [
        {
          "output_type": "stream",
          "name": "stdout",
          "text": [
            "\u001b[K     |████████████████████████████████| 281.3 MB 49 kB/s \n",
            "\u001b[K     |████████████████████████████████| 531 kB 17.5 MB/s \n",
            "\u001b[K     |████████████████████████████████| 199 kB 73.2 MB/s \n",
            "\u001b[?25h  Building wheel for pyspark (setup.py) ... \u001b[?25l\u001b[?25hdone\n"
          ]
        }
      ],
      "source": [
        "! pip install -q pyspark==3.3.0 spark-nlp==4.0.1"
      ]
    },
    {
      "cell_type": "code",
      "execution_count": 3,
      "metadata": {
        "id": "KjcBNzFVgoky",
        "colab": {
          "base_uri": "https://localhost:8080/",
          "height": 254
        },
        "outputId": "43e427bb-d2f3-4833-aad4-ef6b4ee1e578"
      },
      "outputs": [
        {
          "output_type": "stream",
          "name": "stdout",
          "text": [
            "Spark NLP version 4.0.1\n",
            "Apache Spark version: 3.3.0\n"
          ]
        },
        {
          "output_type": "execute_result",
          "data": {
            "text/plain": [
              "<pyspark.sql.session.SparkSession at 0x7f248a072150>"
            ],
            "text/html": [
              "\n",
              "            <div>\n",
              "                <p><b>SparkSession - in-memory</b></p>\n",
              "                \n",
              "        <div>\n",
              "            <p><b>SparkContext</b></p>\n",
              "\n",
              "            <p><a href=\"http://08b20d07c3fe:4040\">Spark UI</a></p>\n",
              "\n",
              "            <dl>\n",
              "              <dt>Version</dt>\n",
              "                <dd><code>v3.3.0</code></dd>\n",
              "              <dt>Master</dt>\n",
              "                <dd><code>local[*]</code></dd>\n",
              "              <dt>AppName</dt>\n",
              "                <dd><code>Spark NLP</code></dd>\n",
              "            </dl>\n",
              "        </div>\n",
              "        \n",
              "            </div>\n",
              "        "
            ]
          },
          "metadata": {},
          "execution_count": 3
        }
      ],
      "source": [
        "import sparknlp\n",
        "\n",
        "spark = sparknlp.start()\n",
        "\n",
        "from sparknlp.base import *\n",
        "from sparknlp.annotator import *\n",
        "from pyspark.ml import Pipeline\n",
        "import pandas as pd\n",
        "\n",
        "print(\"Spark NLP version\", sparknlp.version())\n",
        "print(\"Apache Spark version:\", spark.version)\n",
        "\n",
        "spark"
      ]
    },
    {
      "cell_type": "markdown",
      "metadata": {
        "id": "KBHUSgj3UMgY"
      },
      "source": [
        "## Download Dataset"
      ]
    },
    {
      "cell_type": "code",
      "execution_count": 4,
      "metadata": {
        "id": "VN8L1F-OVq0A"
      },
      "outputs": [],
      "source": [
        "! wget -q http://ckl-it.de/wp-content/uploads/2021/02/news_category_test_multi_lingual.csv"
      ]
    },
    {
      "cell_type": "code",
      "execution_count": 5,
      "metadata": {
        "colab": {
          "base_uri": "https://localhost:8080/"
        },
        "id": "Rp-0C1oFUWSp",
        "outputId": "e6e8d3bc-7b3b-47f4-9b66-e857f95e5f8d"
      },
      "outputs": [
        {
          "output_type": "stream",
          "name": "stdout",
          "text": [
            "+---+--------+--------------------+------------------------------+\n",
            "|_c0|       y|                text|                test_sentences|\n",
            "+---+--------+--------------------+------------------------------+\n",
            "|  0|Business|Unions representi...|          టర్నర్ నెవాల్ వద్...|\n",
            "|  1|Sci/Tech| TORONTO, Canada ...|          Торонто, Канада #...|\n",
            "|  2|Sci/Tech| A company founde...|          Une société fondé...|\n",
            "|  3|Sci/Tech| It's barely dawn...|          সবেমাত্র ভোর যখন ...|\n",
            "|  4|Sci/Tech| Southern Califor...|          Көньяк Калифорния...|\n",
            "|  5|Sci/Tech|\"The British Depa...|           with the ostensi...|\n",
            "|  6|Sci/Tech|\"confessed author...|           something expert...|\n",
            "|  7|Sci/Tech|\\\\FOAF/LOAF  and ...|          \\ FOAF / LOAF- un...|\n",
            "|  8|Sci/Tech|\"Wiltshire Police...|          \"வில்ட்ஷயர் பொலிஸ...|\n",
            "|  9|Sci/Tech|In its first two ...|          ក្នុងរយៈពេលពីរឆ្ន...|\n",
            "| 10|Sci/Tech| A group of techn...|          Техас Инструменты...|\n",
            "| 11|Sci/Tech| Apple Computer I...|苹果计算机公司（AAPL.O）。 ...|\n",
            "| 12|Sci/Tech| Free Record Shop...|          ហាងលក់រាយតន្ត្រីដ...|\n",
            "| 13|Sci/Tech|A giant 100km col...|          Avustralya'nın Me...|\n",
            "| 14|Sci/Tech|\"Dolphin groups, ...|           rely on socialit...|\n",
            "| 15|Sci/Tech|Tyrannosaurus rex...|          টিনরানসৌরাস রেক্স...|\n",
            "| 16|Sci/Tech|  Scientists have...|          מדענים גילו גושים...|\n",
            "| 17|Sci/Tech|  ESAs Mars Expre...|          ESA's Mars Expres...|\n",
            "| 18|Sci/Tech|When did life beg...|          வாழ்க்கை எப்போது ...|\n",
            "| 19|Sci/Tech|update Earnings p...|          actualización Las...|\n",
            "+---+--------+--------------------+------------------------------+\n",
            "only showing top 20 rows\n",
            "\n"
          ]
        }
      ],
      "source": [
        "dataset = spark.read \\\n",
        "      .option(\"header\", True) \\\n",
        "      .csv('/content/news_category_test_multi_lingual.csv').limit(10000)\n",
        "dataset.show()"
      ]
    },
    {
      "cell_type": "code",
      "execution_count": 6,
      "metadata": {
        "id": "JQi1Zr5ebHCo"
      },
      "outputs": [],
      "source": [
        "# Split dataset \n",
        "train_df , test_df = dataset.randomSplit([0.7, 0.3])"
      ]
    },
    {
      "cell_type": "markdown",
      "metadata": {
        "id": "JZyycKyzQcwQ"
      },
      "source": [
        "# Create Pipeline With MultiLingual Embeddings and Trainable Classifier"
      ]
    },
    {
      "cell_type": "code",
      "execution_count": 7,
      "metadata": {
        "colab": {
          "base_uri": "https://localhost:8080/"
        },
        "id": "gXdynTiFHKLK",
        "outputId": "0ecf2633-bf5c-4109-a282-26f61435eb92"
      },
      "outputs": [
        {
          "metadata": {
            "tags": null
          },
          "name": "stdout",
          "output_type": "stream",
          "text": [
            "labse download started this may take some time.\n",
            "Approximate size to download 1.7 GB\n",
            "[OK!]\n"
          ]
        }
      ],
      "source": [
        "from pyspark.ml import Pipeline\n",
        "from sparknlp.annotator import *\n",
        "from sparknlp.common import *\n",
        "from sparknlp.base import *\n",
        "\n",
        "\n",
        "# actual content is inside description column\n",
        "document = DocumentAssembler()\\\n",
        "    .setInputCol(\"text\")\\\n",
        "    .setOutputCol(\"document\")\n",
        "\n",
        "sent_embeddings = BertSentenceEmbeddings.pretrained(\"labse\", \"xx\") \\\n",
        "    .setInputCols(\"document\") \\\n",
        "    .setOutputCol(\"sentence_embeddings\")\n",
        "\n",
        "# the classes/labels/categories are in category column\n",
        "classsifierdl = ClassifierDLApproach()\\\n",
        "    .setInputCols([\"sentence_embeddings\"])\\\n",
        "    .setOutputCol(\"class\")\\\n",
        "    .setLabelColumn(\"y\")\\\n",
        "    .setMaxEpochs(2)\\\n",
        "    .setLr(0.005) \n",
        "\n",
        "    \n",
        "pipeline = Pipeline(\n",
        "    stages = [\n",
        "        document,\n",
        "        sent_embeddings,\n",
        "        classsifierdl\n",
        "    ])\n",
        "mutli_lingual_model = pipeline.fit(train_df)"
      ]
    },
    {
      "cell_type": "code",
      "execution_count": 8,
      "metadata": {
        "colab": {
          "base_uri": "https://localhost:8080/"
        },
        "id": "Rb8eTkCiWw-F",
        "outputId": "9dcb9976-34f8-45dd-a145-e8acf01318a0"
      },
      "outputs": [
        {
          "output_type": "stream",
          "name": "stdout",
          "text": [
            "+----+--------+--------------------+--------------------+--------------------+--------------------+--------------------+\n",
            "| _c0|       y|                text|      test_sentences|            document| sentence_embeddings|               class|\n",
            "+----+--------+--------------------+--------------------+--------------------+--------------------+--------------------+\n",
            "|  10|Sci/Tech| A group of techn...|Техас Инструменты...|[{document, 0, 27...|[{sentence_embedd...|[{category, 0, 27...|\n",
            "|1004|Sci/Tech|Va. GOP members c...|                    |[{document, 0, 16...|[{sentence_embedd...|[{category, 0, 16...|\n",
            "|1005|Sci/Tech|  a multimedia ev...|                    |[{document, 0, 21...|[{sentence_embedd...|[{category, 0, 21...|\n",
            "|1007|  Sports|Teenage striker W...|                    |[{document, 0, 13...|[{sentence_embedd...|[{category, 0, 13...|\n",
            "|1010|Business|\" Verizon Communi...| the New York Pos...|[{document, 0, 26...|[{sentence_embedd...|[{category, 0, 26...|\n",
            "|1015|Sci/Tech|There #39;s a rem...|                    |[{document, 0, 18...|[{sentence_embedd...|[{category, 0, 18...|\n",
            "|1019|Sci/Tech| For pandas, it's...|                    |[{document, 0, 16...|[{sentence_embedd...|[{category, 0, 16...|\n",
            "| 102|Sci/Tech|  China is carryi...|                    |[{document, 0, 22...|[{sentence_embedd...|[{category, 0, 22...|\n",
            "|1023|Business|Goldwyn Meyer has...|                    |[{document, 0, 21...|[{sentence_embedd...|[{category, 0, 21...|\n",
            "|1029|Business|Shares in newly p...|                    |[{document, 0, 18...|[{sentence_embedd...|[{category, 0, 18...|\n",
            "|1030|Business|SPRINGFIELD, Ill....|                    |[{document, 0, 21...|[{sentence_embedd...|[{category, 0, 21...|\n",
            "|1042|Sci/Tech|HOTEL operators, ...|                    |[{document, 0, 15...|[{sentence_embedd...|[{category, 0, 15...|\n",
            "|1045|Sci/Tech|  Apple Computer ...|                    |[{document, 0, 14...|[{sentence_embedd...|[{category, 0, 14...|\n",
            "| 105|  Sports| World 100 meters...|                    |[{document, 0, 16...|[{sentence_embedd...|[{category, 0, 16...|\n",
            "|1052|   World|  School doors op...|                    |[{document, 0, 12...|[{sentence_embedd...|[{category, 0, 12...|\n",
            "|1054|  Sports|There was the \\$5...|                    |[{document, 0, 22...|[{sentence_embedd...|[{category, 0, 22...|\n",
            "|1056|  Sports|Tim Brett and Mat...|                    |[{document, 0, 24...|[{sentence_embedd...|[{category, 0, 24...|\n",
            "|1061|   World|On September 2, J...|                    |[{document, 0, 14...|[{sentence_embedd...|[{category, 0, 14...|\n",
            "|1065|   World| A favourite tipp...|                    |[{document, 0, 19...|[{sentence_embedd...|[{category, 0, 19...|\n",
            "|1067|Sci/Tech| The results of o...|                    |[{document, 0, 11...|[{sentence_embedd...|[{category, 0, 11...|\n",
            "+----+--------+--------------------+--------------------+--------------------+--------------------+--------------------+\n",
            "only showing top 20 rows\n",
            "\n"
          ]
        }
      ],
      "source": [
        "preds = mutli_lingual_model.transform(test_df)\n",
        "preds.show()"
      ]
    },
    {
      "cell_type": "markdown",
      "metadata": {
        "id": "FzSthAbHS72B"
      },
      "source": [
        "# Evauate Multi-Lingual Model"
      ]
    },
    {
      "cell_type": "code",
      "execution_count": 9,
      "metadata": {
        "colab": {
          "base_uri": "https://localhost:8080/",
          "height": 424
        },
        "id": "XAmbHcTjM6BP",
        "outputId": "26f737dc-badf-4050-8a2e-a9cb15d05fd1"
      },
      "outputs": [
        {
          "output_type": "execute_result",
          "data": {
            "text/plain": [
              "             y    result\n",
              "0     Sci/Tech  Sci/Tech\n",
              "1     Sci/Tech     World\n",
              "2     Sci/Tech  Sci/Tech\n",
              "3       Sports    Sports\n",
              "4     Business  Business\n",
              "...        ...       ...\n",
              "2296    Sports    Sports\n",
              "2297  Sci/Tech  Sci/Tech\n",
              "2298     World     World\n",
              "2299  Sci/Tech  Sci/Tech\n",
              "2300    Sports    Sports\n",
              "\n",
              "[2301 rows x 2 columns]"
            ],
            "text/html": [
              "\n",
              "  <div id=\"df-db78b238-40b0-4fc6-aad7-10dfcc3f33d0\">\n",
              "    <div class=\"colab-df-container\">\n",
              "      <div>\n",
              "<style scoped>\n",
              "    .dataframe tbody tr th:only-of-type {\n",
              "        vertical-align: middle;\n",
              "    }\n",
              "\n",
              "    .dataframe tbody tr th {\n",
              "        vertical-align: top;\n",
              "    }\n",
              "\n",
              "    .dataframe thead th {\n",
              "        text-align: right;\n",
              "    }\n",
              "</style>\n",
              "<table border=\"1\" class=\"dataframe\">\n",
              "  <thead>\n",
              "    <tr style=\"text-align: right;\">\n",
              "      <th></th>\n",
              "      <th>y</th>\n",
              "      <th>result</th>\n",
              "    </tr>\n",
              "  </thead>\n",
              "  <tbody>\n",
              "    <tr>\n",
              "      <th>0</th>\n",
              "      <td>Sci/Tech</td>\n",
              "      <td>Sci/Tech</td>\n",
              "    </tr>\n",
              "    <tr>\n",
              "      <th>1</th>\n",
              "      <td>Sci/Tech</td>\n",
              "      <td>World</td>\n",
              "    </tr>\n",
              "    <tr>\n",
              "      <th>2</th>\n",
              "      <td>Sci/Tech</td>\n",
              "      <td>Sci/Tech</td>\n",
              "    </tr>\n",
              "    <tr>\n",
              "      <th>3</th>\n",
              "      <td>Sports</td>\n",
              "      <td>Sports</td>\n",
              "    </tr>\n",
              "    <tr>\n",
              "      <th>4</th>\n",
              "      <td>Business</td>\n",
              "      <td>Business</td>\n",
              "    </tr>\n",
              "    <tr>\n",
              "      <th>...</th>\n",
              "      <td>...</td>\n",
              "      <td>...</td>\n",
              "    </tr>\n",
              "    <tr>\n",
              "      <th>2296</th>\n",
              "      <td>Sports</td>\n",
              "      <td>Sports</td>\n",
              "    </tr>\n",
              "    <tr>\n",
              "      <th>2297</th>\n",
              "      <td>Sci/Tech</td>\n",
              "      <td>Sci/Tech</td>\n",
              "    </tr>\n",
              "    <tr>\n",
              "      <th>2298</th>\n",
              "      <td>World</td>\n",
              "      <td>World</td>\n",
              "    </tr>\n",
              "    <tr>\n",
              "      <th>2299</th>\n",
              "      <td>Sci/Tech</td>\n",
              "      <td>Sci/Tech</td>\n",
              "    </tr>\n",
              "    <tr>\n",
              "      <th>2300</th>\n",
              "      <td>Sports</td>\n",
              "      <td>Sports</td>\n",
              "    </tr>\n",
              "  </tbody>\n",
              "</table>\n",
              "<p>2301 rows × 2 columns</p>\n",
              "</div>\n",
              "      <button class=\"colab-df-convert\" onclick=\"convertToInteractive('df-db78b238-40b0-4fc6-aad7-10dfcc3f33d0')\"\n",
              "              title=\"Convert this dataframe to an interactive table.\"\n",
              "              style=\"display:none;\">\n",
              "        \n",
              "  <svg xmlns=\"http://www.w3.org/2000/svg\" height=\"24px\"viewBox=\"0 0 24 24\"\n",
              "       width=\"24px\">\n",
              "    <path d=\"M0 0h24v24H0V0z\" fill=\"none\"/>\n",
              "    <path d=\"M18.56 5.44l.94 2.06.94-2.06 2.06-.94-2.06-.94-.94-2.06-.94 2.06-2.06.94zm-11 1L8.5 8.5l.94-2.06 2.06-.94-2.06-.94L8.5 2.5l-.94 2.06-2.06.94zm10 10l.94 2.06.94-2.06 2.06-.94-2.06-.94-.94-2.06-.94 2.06-2.06.94z\"/><path d=\"M17.41 7.96l-1.37-1.37c-.4-.4-.92-.59-1.43-.59-.52 0-1.04.2-1.43.59L10.3 9.45l-7.72 7.72c-.78.78-.78 2.05 0 2.83L4 21.41c.39.39.9.59 1.41.59.51 0 1.02-.2 1.41-.59l7.78-7.78 2.81-2.81c.8-.78.8-2.07 0-2.86zM5.41 20L4 18.59l7.72-7.72 1.47 1.35L5.41 20z\"/>\n",
              "  </svg>\n",
              "      </button>\n",
              "      \n",
              "  <style>\n",
              "    .colab-df-container {\n",
              "      display:flex;\n",
              "      flex-wrap:wrap;\n",
              "      gap: 12px;\n",
              "    }\n",
              "\n",
              "    .colab-df-convert {\n",
              "      background-color: #E8F0FE;\n",
              "      border: none;\n",
              "      border-radius: 50%;\n",
              "      cursor: pointer;\n",
              "      display: none;\n",
              "      fill: #1967D2;\n",
              "      height: 32px;\n",
              "      padding: 0 0 0 0;\n",
              "      width: 32px;\n",
              "    }\n",
              "\n",
              "    .colab-df-convert:hover {\n",
              "      background-color: #E2EBFA;\n",
              "      box-shadow: 0px 1px 2px rgba(60, 64, 67, 0.3), 0px 1px 3px 1px rgba(60, 64, 67, 0.15);\n",
              "      fill: #174EA6;\n",
              "    }\n",
              "\n",
              "    [theme=dark] .colab-df-convert {\n",
              "      background-color: #3B4455;\n",
              "      fill: #D2E3FC;\n",
              "    }\n",
              "\n",
              "    [theme=dark] .colab-df-convert:hover {\n",
              "      background-color: #434B5C;\n",
              "      box-shadow: 0px 1px 3px 1px rgba(0, 0, 0, 0.15);\n",
              "      filter: drop-shadow(0px 1px 2px rgba(0, 0, 0, 0.3));\n",
              "      fill: #FFFFFF;\n",
              "    }\n",
              "  </style>\n",
              "\n",
              "      <script>\n",
              "        const buttonEl =\n",
              "          document.querySelector('#df-db78b238-40b0-4fc6-aad7-10dfcc3f33d0 button.colab-df-convert');\n",
              "        buttonEl.style.display =\n",
              "          google.colab.kernel.accessAllowed ? 'block' : 'none';\n",
              "\n",
              "        async function convertToInteractive(key) {\n",
              "          const element = document.querySelector('#df-db78b238-40b0-4fc6-aad7-10dfcc3f33d0');\n",
              "          const dataTable =\n",
              "            await google.colab.kernel.invokeFunction('convertToInteractive',\n",
              "                                                     [key], {});\n",
              "          if (!dataTable) return;\n",
              "\n",
              "          const docLinkHtml = 'Like what you see? Visit the ' +\n",
              "            '<a target=\"_blank\" href=https://colab.research.google.com/notebooks/data_table.ipynb>data table notebook</a>'\n",
              "            + ' to learn more about interactive tables.';\n",
              "          element.innerHTML = '';\n",
              "          dataTable['output_type'] = 'display_data';\n",
              "          await google.colab.output.renderOutput(dataTable, element);\n",
              "          const docLink = document.createElement('div');\n",
              "          docLink.innerHTML = docLinkHtml;\n",
              "          element.appendChild(docLink);\n",
              "        }\n",
              "      </script>\n",
              "    </div>\n",
              "  </div>\n",
              "  "
            ]
          },
          "metadata": {},
          "execution_count": 9
        }
      ],
      "source": [
        "df = preds.select(['y','class.result']).toPandas()\n",
        "df['result'] = df['result'].apply(lambda x : x[0])\n",
        "df"
      ]
    },
    {
      "cell_type": "code",
      "execution_count": 10,
      "metadata": {
        "colab": {
          "base_uri": "https://localhost:8080/"
        },
        "id": "hk8j2g7UblS_",
        "outputId": "debf051a-3838-4dea-d3a4-9f37f308d615"
      },
      "outputs": [
        {
          "output_type": "stream",
          "name": "stdout",
          "text": [
            "              precision    recall  f1-score   support\n",
            "\n",
            "    Business       0.80      0.79      0.80       574\n",
            "    Sci/Tech       0.78      0.85      0.81       551\n",
            "      Sports       0.92      0.95      0.93       592\n",
            "       World       0.91      0.83      0.87       584\n",
            "\n",
            "    accuracy                           0.85      2301\n",
            "   macro avg       0.85      0.85      0.85      2301\n",
            "weighted avg       0.86      0.85      0.85      2301\n",
            "\n"
          ]
        }
      ],
      "source": [
        "# We are going to use sklearn to evalute the results on test dataset\n",
        "from sklearn.metrics import classification_report\n",
        "print(classification_report( df['y'], df['result']))"
      ]
    },
    {
      "cell_type": "code",
      "execution_count": 11,
      "metadata": {
        "colab": {
          "base_uri": "https://localhost:8080/"
        },
        "id": "xmK4273tLgmE",
        "outputId": "7dafcd6a-8ca6-4cb3-93ba-7eb9740dde19"
      },
      "outputs": [
        {
          "output_type": "stream",
          "name": "stdout",
          "text": [
            "              precision    recall  f1-score   support\n",
            "\n",
            "    Business       0.85      0.84      0.85      1326\n",
            "    Sci/Tech       0.84      0.87      0.85      1349\n",
            "      Sports       0.93      0.98      0.95      1308\n",
            "       World       0.93      0.87      0.90      1316\n",
            "\n",
            "    accuracy                           0.89      5299\n",
            "   macro avg       0.89      0.89      0.89      5299\n",
            "weighted avg       0.89      0.89      0.89      5299\n",
            "\n"
          ]
        }
      ],
      "source": [
        "# Train dataset metrics\n",
        "preds = mutli_lingual_model.transform(train_df)\n",
        "df = preds.select(['y','class.result']).toPandas()\n",
        "df['result'] = df['result'].apply(lambda x : x[0])\n",
        "print(classification_report(df['y'], df['result']))"
      ]
    },
    {
      "cell_type": "markdown",
      "metadata": {
        "id": "RjtuNUcvuJTT"
      },
      "source": [
        "# The Model understands English\n",
        "![en](https://www.worldometers.info/img/flags/small/tn_nz-flag.gif)"
      ]
    },
    {
      "cell_type": "code",
      "execution_count": 12,
      "metadata": {
        "id": "0HTlHhgEgVS_"
      },
      "outputs": [],
      "source": [
        "model=LightPipeline(mutli_lingual_model)"
      ]
    },
    {
      "cell_type": "code",
      "execution_count": 13,
      "metadata": {
        "id": "o0vu7PaWkcI7",
        "colab": {
          "base_uri": "https://localhost:8080/"
        },
        "outputId": "908c0fa8-973a-4e32-d1c4-fc59d2efc144"
      },
      "outputs": [
        {
          "output_type": "execute_result",
          "data": {
            "text/plain": [
              "{'document': ['Businesses are the best way of making profit '],\n",
              " 'sentence_embeddings': ['Businesses are the best way of making profit '],\n",
              " 'class': ['Business']}"
            ]
          },
          "metadata": {},
          "execution_count": 13
        }
      ],
      "source": [
        "model.annotate(\"Businesses are the best way of making profit \")"
      ]
    },
    {
      "cell_type": "code",
      "execution_count": 14,
      "metadata": {
        "colab": {
          "base_uri": "https://localhost:8080/"
        },
        "id": "1ykjRQhCtQ4w",
        "outputId": "fb5c7a1e-4901-428e-eafb-205f1979fd4f"
      },
      "outputs": [
        {
          "output_type": "execute_result",
          "data": {
            "text/plain": [
              "{'document': ['Science has advanced rapidly over the last century '],\n",
              " 'sentence_embeddings': ['Science has advanced rapidly over the last century '],\n",
              " 'class': ['Sci/Tech']}"
            ]
          },
          "metadata": {},
          "execution_count": 14
        }
      ],
      "source": [
        "model.annotate(\"Science has advanced rapidly over the last century \")"
      ]
    },
    {
      "cell_type": "markdown",
      "metadata": {
        "id": "vohym-XbuNHn"
      },
      "source": [
        "# The Model understands German\n",
        "![de](https://www.worldometers.info/img/flags/small/tn_gm-flag.gif)"
      ]
    },
    {
      "cell_type": "code",
      "execution_count": 15,
      "metadata": {
        "colab": {
          "base_uri": "https://localhost:8080/"
        },
        "id": "dzaaZrI4tVWc",
        "outputId": "1987e0c7-c497-4aa0-e64f-eba79de6622f"
      },
      "outputs": [
        {
          "output_type": "execute_result",
          "data": {
            "text/plain": [
              "{'document': ['Unternehmen sind der beste Weg, um Gewinn zu erzielen'],\n",
              " 'sentence_embeddings': ['Unternehmen sind der beste Weg, um Gewinn zu erzielen'],\n",
              " 'class': ['Business']}"
            ]
          },
          "metadata": {},
          "execution_count": 15
        }
      ],
      "source": [
        "# German for: 'Businesses are the best way of making profit'\n",
        "model.annotate(\"Unternehmen sind der beste Weg, um Gewinn zu erzielen\")"
      ]
    },
    {
      "cell_type": "code",
      "execution_count": 16,
      "metadata": {
        "colab": {
          "base_uri": "https://localhost:8080/"
        },
        "id": "BbhgTSBGtTtJ",
        "outputId": "f212a28d-1727-4f70-e14d-f55301599616"
      },
      "outputs": [
        {
          "output_type": "execute_result",
          "data": {
            "text/plain": [
              "{'document': ['Die Wissenschaft hat im letzten Jahrhundert rasante Fortschritte gemacht '],\n",
              " 'sentence_embeddings': ['Die Wissenschaft hat im letzten Jahrhundert rasante Fortschritte gemacht '],\n",
              " 'class': ['Sci/Tech']}"
            ]
          },
          "metadata": {},
          "execution_count": 16
        }
      ],
      "source": [
        "# German for: 'Science has advanced rapidly over the last century'\n",
        "model.annotate(\"Die Wissenschaft hat im letzten Jahrhundert rasante Fortschritte gemacht \")"
      ]
    },
    {
      "cell_type": "markdown",
      "metadata": {
        "id": "a1JbtmWquQwj"
      },
      "source": [
        "# The Model understands Chinese\n",
        "![zh](https://www.worldometers.info/img/flags/small/tn_ch-flag.gif)"
      ]
    },
    {
      "cell_type": "code",
      "execution_count": 17,
      "metadata": {
        "colab": {
          "base_uri": "https://localhost:8080/"
        },
        "id": "kYSYqtoRtc-P",
        "outputId": "0ec6a372-269b-43a9-c4d7-424f3487d2e5"
      },
      "outputs": [
        {
          "output_type": "execute_result",
          "data": {
            "text/plain": [
              "{'document': ['創業是最好的盈利方式 '],\n",
              " 'sentence_embeddings': ['創業是最好的盈利方式 '],\n",
              " 'class': ['Business']}"
            ]
          },
          "metadata": {},
          "execution_count": 17
        }
      ],
      "source": [
        "# Chinese for: 'Businesses are the best way of making profit'\n",
        "model.annotate(\"創業是最好的盈利方式 \")"
      ]
    },
    {
      "cell_type": "code",
      "execution_count": 18,
      "metadata": {
        "colab": {
          "base_uri": "https://localhost:8080/"
        },
        "id": "06v9SD-QtlBU",
        "outputId": "8d107f9b-237a-462c-e0cb-deca16c074c4"
      },
      "outputs": [
        {
          "output_type": "execute_result",
          "data": {
            "text/plain": [
              "{'document': ['在上个世纪，科学发展迅速 '],\n",
              " 'sentence_embeddings': ['在上个世纪，科学发展迅速 '],\n",
              " 'class': ['Sci/Tech']}"
            ]
          },
          "metadata": {},
          "execution_count": 18
        }
      ],
      "source": [
        "# Chinese for: 'Science has advanced rapidly over the last century'\n",
        "model.annotate(\"在上个世纪，科学发展迅速 \")"
      ]
    },
    {
      "cell_type": "markdown",
      "metadata": {
        "id": "9h7CvN4uu9Pb"
      },
      "source": [
        "# Model understands Afrikaans\n",
        "\n",
        "![af](https://www.worldometers.info/img/flags/small/tn_sf-flag.gif)\n",
        "\n"
      ]
    },
    {
      "cell_type": "code",
      "execution_count": 19,
      "metadata": {
        "colab": {
          "base_uri": "https://localhost:8080/"
        },
        "id": "VMPhbgw9twtf",
        "outputId": "f43c7430-f674-483d-8051-b7c71b84bb08"
      },
      "outputs": [
        {
          "output_type": "execute_result",
          "data": {
            "text/plain": [
              "{'document': ['Besighede is die beste manier om wins te maak'],\n",
              " 'sentence_embeddings': ['Besighede is die beste manier om wins te maak'],\n",
              " 'class': ['Business']}"
            ]
          },
          "metadata": {},
          "execution_count": 19
        }
      ],
      "source": [
        "#  Afrikaans for: 'Businesses are the best way of making profit'\n",
        "model.annotate(\"Besighede is die beste manier om wins te maak\")"
      ]
    },
    {
      "cell_type": "code",
      "execution_count": 20,
      "metadata": {
        "colab": {
          "base_uri": "https://localhost:8080/"
        },
        "id": "TggzMdeXQIyQ",
        "outputId": "c9817cdf-774f-4ab4-d091-38a2f26b3eee"
      },
      "outputs": [
        {
          "output_type": "execute_result",
          "data": {
            "text/plain": [
              "{'document': ['Die wetenskap het die afgelope eeu vinnig gevorder '],\n",
              " 'sentence_embeddings': ['Die wetenskap het die afgelope eeu vinnig gevorder '],\n",
              " 'class': ['Sci/Tech']}"
            ]
          },
          "metadata": {},
          "execution_count": 20
        }
      ],
      "source": [
        "#  Afrikaans for: 'Science has advanced rapidly over the last century'\n",
        "model.annotate(\"Die wetenskap het die afgelope eeu vinnig gevorder \")"
      ]
    },
    {
      "cell_type": "markdown",
      "metadata": {
        "id": "RoNg-C3k1qcX"
      },
      "source": [
        "# Model understands Hindi\n",
        "![hi](https://www.worldometers.info/img/flags/small/tn_in-flag.gif)\n"
      ]
    },
    {
      "cell_type": "code",
      "execution_count": 21,
      "metadata": {
        "colab": {
          "base_uri": "https://localhost:8080/"
        },
        "id": "QZ9RT5Wv1r1n",
        "outputId": "bc49f086-a01d-4cec-a983-1df6c7b06788"
      },
      "outputs": [
        {
          "output_type": "execute_result",
          "data": {
            "text/plain": [
              "{'document': ['व्यवसाय लाभ कमाने का सबसे अच्छा तरीका है।'],\n",
              " 'sentence_embeddings': ['व्यवसाय लाभ कमाने का सबसे अच्छा तरीका है।'],\n",
              " 'class': ['Business']}"
            ]
          },
          "metadata": {},
          "execution_count": 21
        }
      ],
      "source": [
        "# hindi for: 'Businesses are the best way of making profit'\n",
        "model.annotate('व्यवसाय लाभ कमाने का सबसे अच्छा तरीका है।')"
      ]
    },
    {
      "cell_type": "code",
      "execution_count": 22,
      "metadata": {
        "colab": {
          "base_uri": "https://localhost:8080/"
        },
        "id": "quM-IL2i12-B",
        "outputId": "28b16b56-3565-4ab0-cba9-1ebfc5c6db4e"
      },
      "outputs": [
        {
          "output_type": "execute_result",
          "data": {
            "text/plain": [
              "{'document': ['विज्ञान पिछली सदी में तेजी से आगे बढ़ा है '],\n",
              " 'sentence_embeddings': ['विज्ञान पिछली सदी में तेजी से आगे बढ़ा है '],\n",
              " 'class': ['Sci/Tech']}"
            ]
          },
          "metadata": {},
          "execution_count": 22
        }
      ],
      "source": [
        "# hindi for: 'Science has advanced rapidly over the last century'\n",
        "model.annotate(\"विज्ञान पिछली सदी में तेजी से आगे बढ़ा है \")"
      ]
    },
    {
      "cell_type": "markdown",
      "metadata": {
        "id": "8R1j9mwz2Cm4"
      },
      "source": [
        "# Model understands Urdu\n",
        "![ur](https://www.worldometers.info/img/flags/small/tn_pk-flag.gif)"
      ]
    },
    {
      "cell_type": "code",
      "execution_count": 23,
      "metadata": {
        "colab": {
          "base_uri": "https://localhost:8080/"
        },
        "id": "j4zwvRV11pcG",
        "outputId": "7306ee87-d6b7-4d63-c6a6-87eb4eaaf8fa"
      },
      "outputs": [
        {
          "output_type": "execute_result",
          "data": {
            "text/plain": [
              "{'document': ['پچھلے ایک دہائی کے دوران کاروباروں میں زبردست اضافہ ہوا ہے '],\n",
              " 'sentence_embeddings': ['پچھلے ایک دہائی کے دوران کاروباروں میں زبردست اضافہ ہوا ہے '],\n",
              " 'class': ['Business']}"
            ]
          },
          "metadata": {},
          "execution_count": 23
        }
      ],
      "source": [
        "# Urdu for: 'There have been a great increase in businesses over the last decade'\n",
        "model.annotate(\"پچھلے ایک دہائی کے دوران کاروباروں میں زبردست اضافہ ہوا ہے \")"
      ]
    },
    {
      "cell_type": "code",
      "execution_count": 24,
      "metadata": {
        "colab": {
          "base_uri": "https://localhost:8080/"
        },
        "id": "SxzTuK4b2UKV",
        "outputId": "4c5906fe-e509-43fd-87b0-07046cec31a4"
      },
      "outputs": [
        {
          "output_type": "execute_result",
          "data": {
            "text/plain": [
              "{'document': ['سائنس گذشتہ صدی کے دوران تیزی سے ترقی کرچکی ہے '],\n",
              " 'sentence_embeddings': ['سائنس گذشتہ صدی کے دوران تیزی سے ترقی کرچکی ہے '],\n",
              " 'class': ['Sci/Tech']}"
            ]
          },
          "metadata": {},
          "execution_count": 24
        }
      ],
      "source": [
        "# Urdu for: 'Science has advanced rapidly over the last century'\n",
        "model.annotate(\"سائنس گذشتہ صدی کے دوران تیزی سے ترقی کرچکی ہے \")"
      ]
    },
    {
      "cell_type": "code",
      "source": [
        ""
      ],
      "metadata": {
        "id": "Jnz08Ze8iIVG"
      },
      "execution_count": 24,
      "outputs": []
    }
  ],
  "metadata": {
    "colab": {
      "collapsed_sections": [],
      "name": "05: Multi_Lingual_Training_and_models.ipynb",
      "provenance": [],
      "machine_shape": "hm",
      "include_colab_link": true
    },
    "kernelspec": {
      "display_name": "Python 3",
      "language": "python",
      "name": "python3"
    },
    "language_info": {
      "codemirror_mode": {
        "name": "ipython",
        "version": 3
      },
      "file_extension": ".py",
      "mimetype": "text/x-python",
      "name": "python",
      "nbconvert_exporter": "python",
      "pygments_lexer": "ipython3",
      "version": "3.7.4"
    },
    "gpuClass": "standard",
    "accelerator": "GPU"
  },
  "nbformat": 4,
  "nbformat_minor": 0
}